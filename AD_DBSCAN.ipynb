{
 "cells": [
  {
   "cell_type": "markdown",
   "metadata": {},
   "source": [
    "# Detect Anomalies Using Density Based Clustering\n",
    "\n",
    "\n",
    "## Clustering-Based Anomaly Detection\n",
    "\n",
    "- Assumption: Data points that are similar tend to belong to similar groups or clusters, as determined by their distance from local centroids. Normal data points occur around a dense neighborhood and abnormalities are far away.\n",
    "\n",
    "- Using density based clustering, like DBSCAN, we can design the model such that the data points that do not fall into a cluster are the anomalies.\n"
   ]
  },
  {
   "cell_type": "code",
   "execution_count": 1,
   "metadata": {},
   "outputs": [],
   "source": [
    "import warnings\n",
    "warnings.filterwarnings(\"ignore\")\n",
    "import matplotlib.pyplot as plt\n",
    "import seaborn as sns\n",
    "import numpy as np\n",
    "import pandas as pd\n",
    "\n",
    "# DBSCAN import\n",
    "from sklearn.cluster import DBSCAN\n",
    "# Scaler import\n",
    "from sklearn.preprocessing import MinMaxScaler\n"
   ]
  },
  {
   "cell_type": "code",
   "execution_count": 2,
   "metadata": {},
   "outputs": [],
   "source": [
    "# Import .txt file and convert it to a DataFrame object\n",
    "df = pd.read_table(\"curriculum-access.txt\", sep = '\\s', header = None, \n",
    "                   names = ['date', 'time', 'page', 'id', 'cohort', 'ip'])\n"
   ]
  },
  {
   "cell_type": "code",
   "execution_count": 3,
   "metadata": {},
   "outputs": [
    {
     "data": {
      "text/html": [
       "<div>\n",
       "<style scoped>\n",
       "    .dataframe tbody tr th:only-of-type {\n",
       "        vertical-align: middle;\n",
       "    }\n",
       "\n",
       "    .dataframe tbody tr th {\n",
       "        vertical-align: top;\n",
       "    }\n",
       "\n",
       "    .dataframe thead th {\n",
       "        text-align: right;\n",
       "    }\n",
       "</style>\n",
       "<table border=\"1\" class=\"dataframe\">\n",
       "  <thead>\n",
       "    <tr style=\"text-align: right;\">\n",
       "      <th></th>\n",
       "      <th>date</th>\n",
       "      <th>time</th>\n",
       "      <th>page</th>\n",
       "      <th>id</th>\n",
       "      <th>cohort</th>\n",
       "      <th>ip</th>\n",
       "    </tr>\n",
       "  </thead>\n",
       "  <tbody>\n",
       "    <tr>\n",
       "      <th>0</th>\n",
       "      <td>2018-01-26</td>\n",
       "      <td>09:55:03</td>\n",
       "      <td>/</td>\n",
       "      <td>1</td>\n",
       "      <td>8.0</td>\n",
       "      <td>98.106.20.62</td>\n",
       "    </tr>\n",
       "    <tr>\n",
       "      <th>1</th>\n",
       "      <td>2018-01-26</td>\n",
       "      <td>09:56:02</td>\n",
       "      <td>java-ii</td>\n",
       "      <td>1</td>\n",
       "      <td>8.0</td>\n",
       "      <td>98.106.20.62</td>\n",
       "    </tr>\n",
       "  </tbody>\n",
       "</table>\n",
       "</div>"
      ],
      "text/plain": [
       "         date      time     page  id  cohort            ip\n",
       "0  2018-01-26  09:55:03        /   1     8.0  98.106.20.62\n",
       "1  2018-01-26  09:56:02  java-ii   1     8.0  98.106.20.62"
      ]
     },
     "execution_count": 3,
     "metadata": {},
     "output_type": "execute_result"
    }
   ],
   "source": [
    "# let's examine the head of the dataframe to make sure its\n",
    "# what we were expecting\n",
    "df.head(2)"
   ]
  },
  {
   "cell_type": "markdown",
   "metadata": {},
   "source": [
    "#### What do we know about this data set?\n",
    " - We are examining curriculum access at codeup.com\n",
    " - What do we want to find out about this data set?\n",
    "     - high density page views on certain dates?\n",
    "     - users that have a high number of page views?\n",
    "     - cohorts that have unusual activity?"
   ]
  },
  {
   "cell_type": "code",
   "execution_count": null,
   "metadata": {},
   "outputs": [],
   "source": [
    "# I know that I have the following columns here:\n",
    "# id: the number associated with the person viewing the curriculum\n",
    "# page: the url endpoint associated with the page being visited\n",
    "# cohort: number associated with the cohort that the id is associated with\n"
   ]
  },
  {
   "cell_type": "markdown",
   "metadata": {},
   "source": [
    "Explore"
   ]
  },
  {
   "cell_type": "code",
   "execution_count": 4,
   "metadata": {},
   "outputs": [],
   "source": [
    "# lets do a little aggregation based on the student id's in the data set,\n",
    "# focusing on the number of unique hits\n",
    "id_counts = df.groupby(['id'])['date', 'page', 'cohort'].nunique()"
   ]
  },
  {
   "cell_type": "code",
   "execution_count": 7,
   "metadata": {},
   "outputs": [
    {
     "data": {
      "text/html": [
       "<div>\n",
       "<style scoped>\n",
       "    .dataframe tbody tr th:only-of-type {\n",
       "        vertical-align: middle;\n",
       "    }\n",
       "\n",
       "    .dataframe tbody tr th {\n",
       "        vertical-align: top;\n",
       "    }\n",
       "\n",
       "    .dataframe thead th {\n",
       "        text-align: right;\n",
       "    }\n",
       "</style>\n",
       "<table border=\"1\" class=\"dataframe\">\n",
       "  <thead>\n",
       "    <tr style=\"text-align: right;\">\n",
       "      <th></th>\n",
       "      <th>date</th>\n",
       "      <th>page</th>\n",
       "      <th>cohort</th>\n",
       "    </tr>\n",
       "    <tr>\n",
       "      <th>id</th>\n",
       "      <th></th>\n",
       "      <th></th>\n",
       "      <th></th>\n",
       "    </tr>\n",
       "  </thead>\n",
       "  <tbody>\n",
       "    <tr>\n",
       "      <th>1</th>\n",
       "      <td>451</td>\n",
       "      <td>819</td>\n",
       "      <td>2</td>\n",
       "    </tr>\n",
       "    <tr>\n",
       "      <th>2</th>\n",
       "      <td>83</td>\n",
       "      <td>151</td>\n",
       "      <td>1</td>\n",
       "    </tr>\n",
       "    <tr>\n",
       "      <th>3</th>\n",
       "      <td>107</td>\n",
       "      <td>169</td>\n",
       "      <td>1</td>\n",
       "    </tr>\n",
       "    <tr>\n",
       "      <th>4</th>\n",
       "      <td>54</td>\n",
       "      <td>143</td>\n",
       "      <td>1</td>\n",
       "    </tr>\n",
       "    <tr>\n",
       "      <th>5</th>\n",
       "      <td>82</td>\n",
       "      <td>197</td>\n",
       "      <td>1</td>\n",
       "    </tr>\n",
       "  </tbody>\n",
       "</table>\n",
       "</div>"
      ],
      "text/plain": [
       "    date  page  cohort\n",
       "id                    \n",
       "1    451   819       2\n",
       "2     83   151       1\n",
       "3    107   169       1\n",
       "4     54   143       1\n",
       "5     82   197       1"
      ]
     },
     "execution_count": 7,
     "metadata": {},
     "output_type": "execute_result"
    }
   ],
   "source": [
    "# my index is the user id\n",
    "# and my aggregated columns represent the unique\n",
    "# number of days, pages, and cohorts associated with each\n",
    "id_counts.head()"
   ]
  },
  {
   "cell_type": "code",
   "execution_count": 12,
   "metadata": {},
   "outputs": [
    {
     "data": {
      "text/plain": [
       "<AxesSubplot:>"
      ]
     },
     "execution_count": 12,
     "metadata": {},
     "output_type": "execute_result"
    },
    {
     "data": {
      "image/png": "[encoded data removed]",
      "text/plain": [
       "<Figure size 432x288 with 1 Axes>"
      ]
     },
     "metadata": {
      "needs_background": "light"
     },
     "output_type": "display_data"
    }
   ],
   "source": [
    "id_counts.date.hist()"
   ]
  },
  {
   "cell_type": "code",
   "execution_count": null,
   "metadata": {},
   "outputs": [],
   "source": [
    "# initial questions:\n",
    "# id #1 is likely a curriculum developer or someone involved on the Codeup side.\n",
    "# We have some instances near the bottom of a single or < week number of page/day access\n",
    "# what different values can we associate with mulitple cohort assignments?"
   ]
  },
  {
   "cell_type": "code",
   "execution_count": 14,
   "metadata": {},
   "outputs": [],
   "source": [
    "# let's observe unique hits based on cohort\n",
    "cohort_counts = df.groupby('cohort')['id', 'date','page'].nunique()"
   ]
  },
  {
   "cell_type": "code",
   "execution_count": null,
   "metadata": {},
   "outputs": [],
   "source": []
  },
  {
   "cell_type": "markdown",
   "metadata": {},
   "source": [
    " - I want to observe the initial visit per user in this data set.\n",
    "     - How am I going to do this?"
   ]
  },
  {
   "cell_type": "code",
   "execution_count": 16,
   "metadata": {},
   "outputs": [
    {
     "name": "stdout",
     "output_type": "stream",
     "text": [
      "<class 'pandas.core.frame.DataFrame'>\n",
      "RangeIndex: 543596 entries, 0 to 543595\n",
      "Data columns (total 6 columns):\n",
      " #   Column  Non-Null Count   Dtype  \n",
      "---  ------  --------------   -----  \n",
      " 0   date    543596 non-null  object \n",
      " 1   time    543596 non-null  object \n",
      " 2   page    543595 non-null  object \n",
      " 3   id      543596 non-null  int64  \n",
      " 4   cohort  515740 non-null  float64\n",
      " 5   ip      543596 non-null  object \n",
      "dtypes: float64(1), int64(1), object(4)\n",
      "memory usage: 24.9+ MB\n"
     ]
    }
   ],
   "source": [
    "\n",
    "# let's go back to our original dataframe and \n",
    "# convert to a datetime\n",
    "df.info()"
   ]
  },
  {
   "cell_type": "code",
   "execution_count": 17,
   "metadata": {},
   "outputs": [],
   "source": [
    "# convert our date to a pandas datetime so we can take the minimum\n",
    "# value\n",
    "df['date'] = pd.to_datetime(df['date'])"
   ]
  },
  {
   "cell_type": "code",
   "execution_count": 18,
   "metadata": {},
   "outputs": [
    {
     "name": "stdout",
     "output_type": "stream",
     "text": [
      "<class 'pandas.core.frame.DataFrame'>\n",
      "RangeIndex: 543596 entries, 0 to 543595\n",
      "Data columns (total 6 columns):\n",
      " #   Column  Non-Null Count   Dtype         \n",
      "---  ------  --------------   -----         \n",
      " 0   date    543596 non-null  datetime64[ns]\n",
      " 1   time    543596 non-null  object        \n",
      " 2   page    543595 non-null  object        \n",
      " 3   id      543596 non-null  int64         \n",
      " 4   cohort  515740 non-null  float64       \n",
      " 5   ip      543596 non-null  object        \n",
      "dtypes: datetime64[ns](1), float64(1), int64(1), object(3)\n",
      "memory usage: 24.9+ MB\n"
     ]
    }
   ],
   "source": [
    "df.info()"
   ]
  },
  {
   "cell_type": "code",
   "execution_count": 19,
   "metadata": {},
   "outputs": [],
   "source": [
    "first_access = df.groupby('id')['date'].min()"
   ]
  },
  {
   "cell_type": "code",
   "execution_count": 20,
   "metadata": {},
   "outputs": [
    {
     "data": {
      "text/plain": [
       "id\n",
       "1     2018-01-26\n",
       "2     2018-01-26\n",
       "3     2018-01-26\n",
       "4     2018-01-26\n",
       "5     2018-01-26\n",
       "         ...    \n",
       "646   2020-04-09\n",
       "647   2020-04-09\n",
       "648   2020-04-22\n",
       "649   2020-05-06\n",
       "650   2020-05-07\n",
       "Name: date, Length: 650, dtype: datetime64[ns]"
      ]
     },
     "execution_count": 20,
     "metadata": {},
     "output_type": "execute_result"
    }
   ],
   "source": [
    "first_access"
   ]
  },
  {
   "cell_type": "code",
   "execution_count": null,
   "metadata": {},
   "outputs": [],
   "source": [
    "# can I use this series to examine when cohorts potentially \n",
    "# start inside this data set?\n",
    "# let's use this series to break out that index and then regroup based on\n",
    "# that first access date per user\n",
    "\n"
   ]
  },
  {
   "cell_type": "code",
   "execution_count": null,
   "metadata": {},
   "outputs": [],
   "source": [
    "# let's utilize that index that exists as the id, pop it back out into \n",
    "# a more columnar status, and then proceed forward with observing \n",
    "# high volume dates"
   ]
  },
  {
   "cell_type": "code",
   "execution_count": 25,
   "metadata": {},
   "outputs": [],
   "source": [
    "id_by_first_access_date = pd.DataFrame({'first_access_date': first_access}).reset_index().\\\n",
    "groupby('first_access_date').count()"
   ]
  },
  {
   "cell_type": "code",
   "execution_count": 26,
   "metadata": {},
   "outputs": [
    {
     "name": "stdout",
     "output_type": "stream",
     "text": [
      "<class 'pandas.core.frame.DataFrame'>\n",
      "DatetimeIndex: 181 entries, 2018-01-26 to 2020-05-07\n",
      "Data columns (total 1 columns):\n",
      " #   Column  Non-Null Count  Dtype\n",
      "---  ------  --------------  -----\n",
      " 0   id      181 non-null    int64\n",
      "dtypes: int64(1)\n",
      "memory usage: 2.8 KB\n"
     ]
    }
   ],
   "source": [
    "id_by_first_access_date.info()"
   ]
  },
  {
   "cell_type": "code",
   "execution_count": 30,
   "metadata": {},
   "outputs": [
    {
     "data": {
      "image/png": "[encoded data removed]",
      "text/plain": [
       "<Figure size 432x288 with 1 Axes>"
      ]
     },
     "metadata": {
      "needs_background": "light"
     },
     "output_type": "display_data"
    }
   ],
   "source": [
    "plt.plot(id_by_first_access_date)\n",
    "plt.xticks(rotation=90)\n",
    "plt.title('Number of First Access Users by Date')\n",
    "plt.show()"
   ]
  },
  {
   "cell_type": "markdown",
   "metadata": {},
   "source": [
    " - Takeaways:\n",
    "     - It appears that there is a pretty clear pattern of multiple users starting between strong periods of lag.  It seems that we could determine when cohorts start based on this information and corroborate with any outside information sources to examine if mass curriculum access happened outside of the expectected or anticipated window for said curriculum access"
   ]
  },
  {
   "cell_type": "markdown",
   "metadata": {},
   "source": [
    "Could someone be stealing the content of our curriculum for their benefit beyond personal education? If so, we would probably see them accessing a large number of unique pages. I would imagine they wouldn't spend much time on each page, maybe taking screen shots, copy/paste or downloading the content. Let's take a look. \n",
    "\n",
    "Aggregate and compute 2 features...number of unique pages and total page views. "
   ]
  },
  {
   "cell_type": "code",
   "execution_count": null,
   "metadata": {},
   "outputs": [],
   "source": []
  },
  {
   "cell_type": "code",
   "execution_count": 31,
   "metadata": {},
   "outputs": [],
   "source": [
    "# let's make an examination:\n",
    "# we want to look at individual users,\n",
    "# and I want to know how they interact with pages in the curriculum,\n",
    "# the number of unique pages and the number of total pages\n",
    "page_views = df.groupby(['id'])['page'].agg(['count', 'nunique'])"
   ]
  },
  {
   "cell_type": "code",
   "execution_count": 32,
   "metadata": {},
   "outputs": [
    {
     "data": {
      "text/html": [
       "<div>\n",
       "<style scoped>\n",
       "    .dataframe tbody tr th:only-of-type {\n",
       "        vertical-align: middle;\n",
       "    }\n",
       "\n",
       "    .dataframe tbody tr th {\n",
       "        vertical-align: top;\n",
       "    }\n",
       "\n",
       "    .dataframe thead th {\n",
       "        text-align: right;\n",
       "    }\n",
       "</style>\n",
       "<table border=\"1\" class=\"dataframe\">\n",
       "  <thead>\n",
       "    <tr style=\"text-align: right;\">\n",
       "      <th></th>\n",
       "      <th>count</th>\n",
       "      <th>nunique</th>\n",
       "    </tr>\n",
       "    <tr>\n",
       "      <th>id</th>\n",
       "      <th></th>\n",
       "      <th></th>\n",
       "    </tr>\n",
       "  </thead>\n",
       "  <tbody>\n",
       "    <tr>\n",
       "      <th>1</th>\n",
       "      <td>5437</td>\n",
       "      <td>819</td>\n",
       "    </tr>\n",
       "    <tr>\n",
       "      <th>2</th>\n",
       "      <td>1541</td>\n",
       "      <td>151</td>\n",
       "    </tr>\n",
       "    <tr>\n",
       "      <th>3</th>\n",
       "      <td>1562</td>\n",
       "      <td>169</td>\n",
       "    </tr>\n",
       "    <tr>\n",
       "      <th>4</th>\n",
       "      <td>692</td>\n",
       "      <td>143</td>\n",
       "    </tr>\n",
       "    <tr>\n",
       "      <th>5</th>\n",
       "      <td>1701</td>\n",
       "      <td>197</td>\n",
       "    </tr>\n",
       "    <tr>\n",
       "      <th>...</th>\n",
       "      <td>...</td>\n",
       "      <td>...</td>\n",
       "    </tr>\n",
       "    <tr>\n",
       "      <th>646</th>\n",
       "      <td>41</td>\n",
       "      <td>23</td>\n",
       "    </tr>\n",
       "    <tr>\n",
       "      <th>647</th>\n",
       "      <td>10</td>\n",
       "      <td>6</td>\n",
       "    </tr>\n",
       "    <tr>\n",
       "      <th>648</th>\n",
       "      <td>488</td>\n",
       "      <td>130</td>\n",
       "    </tr>\n",
       "    <tr>\n",
       "      <th>649</th>\n",
       "      <td>1</td>\n",
       "      <td>1</td>\n",
       "    </tr>\n",
       "    <tr>\n",
       "      <th>650</th>\n",
       "      <td>2</td>\n",
       "      <td>2</td>\n",
       "    </tr>\n",
       "  </tbody>\n",
       "</table>\n",
       "<p>650 rows × 2 columns</p>\n",
       "</div>"
      ],
      "text/plain": [
       "     count  nunique\n",
       "id                 \n",
       "1     5437      819\n",
       "2     1541      151\n",
       "3     1562      169\n",
       "4      692      143\n",
       "5     1701      197\n",
       "..     ...      ...\n",
       "646     41       23\n",
       "647     10        6\n",
       "648    488      130\n",
       "649      1        1\n",
       "650      2        2\n",
       "\n",
       "[650 rows x 2 columns]"
      ]
     },
     "execution_count": 32,
     "metadata": {},
     "output_type": "execute_result"
    }
   ],
   "source": [
    "page_views"
   ]
  },
  {
   "cell_type": "code",
   "execution_count": 38,
   "metadata": {},
   "outputs": [
    {
     "data": {
      "text/plain": [
       "<AxesSubplot:>"
      ]
     },
     "execution_count": 38,
     "metadata": {},
     "output_type": "execute_result"
    },
    {
     "data": {
      "image/png": "[encoded data removed]",
      "text/plain": [
       "<Figure size 432x288 with 1 Axes>"
      ]
     },
     "metadata": {
      "needs_background": "light"
     },
     "output_type": "display_data"
    }
   ],
   "source": [
    "page_views['count'].hist()"
   ]
  },
  {
   "cell_type": "code",
   "execution_count": null,
   "metadata": {},
   "outputs": [],
   "source": []
  },
  {
   "cell_type": "code",
   "execution_count": 39,
   "metadata": {},
   "outputs": [
    {
     "data": {
      "text/html": [
       "<div>\n",
       "<style scoped>\n",
       "    .dataframe tbody tr th:only-of-type {\n",
       "        vertical-align: middle;\n",
       "    }\n",
       "\n",
       "    .dataframe tbody tr th {\n",
       "        vertical-align: top;\n",
       "    }\n",
       "\n",
       "    .dataframe thead th {\n",
       "        text-align: right;\n",
       "    }\n",
       "</style>\n",
       "<table border=\"1\" class=\"dataframe\">\n",
       "  <thead>\n",
       "    <tr style=\"text-align: right;\">\n",
       "      <th></th>\n",
       "      <th>count</th>\n",
       "      <th>nunique</th>\n",
       "    </tr>\n",
       "    <tr>\n",
       "      <th>id</th>\n",
       "      <th></th>\n",
       "      <th></th>\n",
       "    </tr>\n",
       "  </thead>\n",
       "  <tbody>\n",
       "    <tr>\n",
       "      <th>313</th>\n",
       "      <td>270</td>\n",
       "      <td>194</td>\n",
       "    </tr>\n",
       "  </tbody>\n",
       "</table>\n",
       "</div>"
      ],
      "text/plain": [
       "     count  nunique\n",
       "id                 \n",
       "313    270      194"
      ]
     },
     "execution_count": 39,
     "metadata": {},
     "output_type": "execute_result"
    }
   ],
   "source": [
    "# let's narrow down the scope\n",
    "# if we want to examine the users that have a lower count\n",
    "# but a high nunique,\n",
    "# we observed with our value counts and histograms previously\n",
    "# that we had a range of approxiately 200 for each of those features\n",
    "# per user\n",
    "# lets narrow down to users that have less than 200 page view total counts\n",
    "# but have over 190\n",
    "page_views[(page_views['count'] < 600) & (page_views['nunique'] > 190)]"
   ]
  },
  {
   "cell_type": "markdown",
   "metadata": {},
   "source": [
    "Scale each attribute linearly. "
   ]
  },
  {
   "cell_type": "code",
   "execution_count": 40,
   "metadata": {},
   "outputs": [],
   "source": [
    "# create the scaler\n",
    "scaler = MinMaxScaler().fit(page_views)\n",
    "# use the scaler\n",
    "scaled_page_views = scaler.transform(page_views)"
   ]
  },
  {
   "cell_type": "code",
   "execution_count": null,
   "metadata": {},
   "outputs": [],
   "source": []
  },
  {
   "cell_type": "code",
   "execution_count": 41,
   "metadata": {},
   "outputs": [
    {
     "data": {
      "text/plain": [
       "array([[0.49132321, 1.        ],\n",
       "       [0.13919017, 0.18337408],\n",
       "       [0.14108821, 0.20537897],\n",
       "       [0.06245481, 0.17359413],\n",
       "       [0.15365148, 0.2396088 ]])"
      ]
     },
     "execution_count": 41,
     "metadata": {},
     "output_type": "execute_result"
    }
   ],
   "source": [
    "scaled_page_views[0:5]"
   ]
  },
  {
   "cell_type": "code",
   "execution_count": 42,
   "metadata": {},
   "outputs": [],
   "source": [
    "# whip up some new column names\n",
    "scaled_cols = [col + '_scaled' for col in page_views.columns]"
   ]
  },
  {
   "cell_type": "code",
   "execution_count": 43,
   "metadata": {},
   "outputs": [
    {
     "data": {
      "text/plain": [
       "['count_scaled', 'nunique_scaled']"
      ]
     },
     "execution_count": 43,
     "metadata": {},
     "output_type": "execute_result"
    }
   ],
   "source": [
    "scaled_cols"
   ]
  },
  {
   "cell_type": "code",
   "execution_count": 45,
   "metadata": {},
   "outputs": [],
   "source": [
    "scaled_page_views_df = pd.DataFrame(scaled_page_views, columns=scaled_cols, index=page_views.index)"
   ]
  },
  {
   "cell_type": "markdown",
   "metadata": {},
   "source": [
    "Construct a DBSCAN object that requires a minimum of 20 data points in a neighborhood of radius 0.1 to be considered a core point."
   ]
  },
  {
   "cell_type": "code",
   "execution_count": 46,
   "metadata": {},
   "outputs": [],
   "source": [
    "# create the object first\n",
    "dbsc = DBSCAN(min_samples=20, eps=0.1)"
   ]
  },
  {
   "cell_type": "code",
   "execution_count": 47,
   "metadata": {},
   "outputs": [
    {
     "data": {
      "text/plain": [
       "DBSCAN(eps=0.1, min_samples=20)"
      ]
     },
     "execution_count": 47,
     "metadata": {},
     "output_type": "execute_result"
    }
   ],
   "source": [
    "dbsc"
   ]
  },
  {
   "cell_type": "code",
   "execution_count": 48,
   "metadata": {},
   "outputs": [
    {
     "data": {
      "text/plain": [
       "DBSCAN(eps=0.1, min_samples=20)"
      ]
     },
     "execution_count": 48,
     "metadata": {},
     "output_type": "execute_result"
    }
   ],
   "source": [
    "# fit the object like we normally would with sklearn\n",
    "dbsc.fit(scaled_page_views_df)"
   ]
  },
  {
   "cell_type": "code",
   "execution_count": 50,
   "metadata": {},
   "outputs": [
    {
     "data": {
      "text/plain": [
       "(650,)"
      ]
     },
     "execution_count": 50,
     "metadata": {},
     "output_type": "execute_result"
    }
   ],
   "source": [
    "dbsc.labels_.shape"
   ]
  },
  {
   "cell_type": "code",
   "execution_count": 51,
   "metadata": {},
   "outputs": [
    {
     "data": {
      "text/plain": [
       "(650, 2)"
      ]
     },
     "execution_count": 51,
     "metadata": {},
     "output_type": "execute_result"
    }
   ],
   "source": [
    "scaled_page_views_df.shape"
   ]
  },
  {
   "cell_type": "code",
   "execution_count": 52,
   "metadata": {},
   "outputs": [
    {
     "data": {
      "text/html": [
       "<div>\n",
       "<style scoped>\n",
       "    .dataframe tbody tr th:only-of-type {\n",
       "        vertical-align: middle;\n",
       "    }\n",
       "\n",
       "    .dataframe tbody tr th {\n",
       "        vertical-align: top;\n",
       "    }\n",
       "\n",
       "    .dataframe thead th {\n",
       "        text-align: right;\n",
       "    }\n",
       "</style>\n",
       "<table border=\"1\" class=\"dataframe\">\n",
       "  <thead>\n",
       "    <tr style=\"text-align: right;\">\n",
       "      <th></th>\n",
       "      <th>count</th>\n",
       "      <th>nunique</th>\n",
       "    </tr>\n",
       "    <tr>\n",
       "      <th>id</th>\n",
       "      <th></th>\n",
       "      <th></th>\n",
       "    </tr>\n",
       "  </thead>\n",
       "  <tbody>\n",
       "    <tr>\n",
       "      <th>1</th>\n",
       "      <td>5437</td>\n",
       "      <td>819</td>\n",
       "    </tr>\n",
       "    <tr>\n",
       "      <th>2</th>\n",
       "      <td>1541</td>\n",
       "      <td>151</td>\n",
       "    </tr>\n",
       "  </tbody>\n",
       "</table>\n",
       "</div>"
      ],
      "text/plain": [
       "    count  nunique\n",
       "id                \n",
       "1    5437      819\n",
       "2    1541      151"
      ]
     },
     "execution_count": 52,
     "metadata": {},
     "output_type": "execute_result"
    }
   ],
   "source": [
    "page_views.head(2)"
   ]
  },
  {
   "cell_type": "code",
   "execution_count": 54,
   "metadata": {},
   "outputs": [
    {
     "data": {
      "text/html": [
       "<div>\n",
       "<style scoped>\n",
       "    .dataframe tbody tr th:only-of-type {\n",
       "        vertical-align: middle;\n",
       "    }\n",
       "\n",
       "    .dataframe tbody tr th {\n",
       "        vertical-align: top;\n",
       "    }\n",
       "\n",
       "    .dataframe thead th {\n",
       "        text-align: right;\n",
       "    }\n",
       "</style>\n",
       "<table border=\"1\" class=\"dataframe\">\n",
       "  <thead>\n",
       "    <tr style=\"text-align: right;\">\n",
       "      <th></th>\n",
       "      <th>count_scaled</th>\n",
       "      <th>nunique_scaled</th>\n",
       "    </tr>\n",
       "    <tr>\n",
       "      <th>id</th>\n",
       "      <th></th>\n",
       "      <th></th>\n",
       "    </tr>\n",
       "  </thead>\n",
       "  <tbody>\n",
       "    <tr>\n",
       "      <th>1</th>\n",
       "      <td>0.491323</td>\n",
       "      <td>1.000000</td>\n",
       "    </tr>\n",
       "    <tr>\n",
       "      <th>2</th>\n",
       "      <td>0.139190</td>\n",
       "      <td>0.183374</td>\n",
       "    </tr>\n",
       "  </tbody>\n",
       "</table>\n",
       "</div>"
      ],
      "text/plain": [
       "    count_scaled  nunique_scaled\n",
       "id                              \n",
       "1       0.491323        1.000000\n",
       "2       0.139190        0.183374"
      ]
     },
     "execution_count": 54,
     "metadata": {},
     "output_type": "execute_result"
    }
   ],
   "source": [
    "scaled_page_views_df.head(2)"
   ]
  },
  {
   "cell_type": "code",
   "execution_count": 57,
   "metadata": {},
   "outputs": [],
   "source": [
    "# Merge the scaled and non-scaled values into one dataframe\n",
    "page_views_total = page_views.merge(\n",
    "    scaled_page_views_df, on=page_views.index).drop(\n",
    "    columns=['key_0'])"
   ]
  },
  {
   "cell_type": "code",
   "execution_count": 58,
   "metadata": {},
   "outputs": [
    {
     "data": {
      "text/plain": [
       "(650, 4)"
      ]
     },
     "execution_count": 58,
     "metadata": {},
     "output_type": "execute_result"
    }
   ],
   "source": [
    "# sanity check for the shape of the df:\n",
    "page_views_total.shape"
   ]
  },
  {
   "cell_type": "code",
   "execution_count": null,
   "metadata": {},
   "outputs": [],
   "source": [
    "# let's apply the dbscan labels"
   ]
  },
  {
   "cell_type": "code",
   "execution_count": 59,
   "metadata": {},
   "outputs": [],
   "source": [
    "page_views_total['labels'] = dbsc.labels_"
   ]
  },
  {
   "cell_type": "code",
   "execution_count": 60,
   "metadata": {},
   "outputs": [
    {
     "data": {
      "text/html": [
       "<div>\n",
       "<style scoped>\n",
       "    .dataframe tbody tr th:only-of-type {\n",
       "        vertical-align: middle;\n",
       "    }\n",
       "\n",
       "    .dataframe tbody tr th {\n",
       "        vertical-align: top;\n",
       "    }\n",
       "\n",
       "    .dataframe thead th {\n",
       "        text-align: right;\n",
       "    }\n",
       "</style>\n",
       "<table border=\"1\" class=\"dataframe\">\n",
       "  <thead>\n",
       "    <tr style=\"text-align: right;\">\n",
       "      <th></th>\n",
       "      <th>count</th>\n",
       "      <th>nunique</th>\n",
       "      <th>count_scaled</th>\n",
       "      <th>nunique_scaled</th>\n",
       "      <th>labels</th>\n",
       "    </tr>\n",
       "  </thead>\n",
       "  <tbody>\n",
       "    <tr>\n",
       "      <th>0</th>\n",
       "      <td>5437</td>\n",
       "      <td>819</td>\n",
       "      <td>0.491323</td>\n",
       "      <td>1.000000</td>\n",
       "      <td>-1</td>\n",
       "    </tr>\n",
       "    <tr>\n",
       "      <th>10</th>\n",
       "      <td>11065</td>\n",
       "      <td>698</td>\n",
       "      <td>1.000000</td>\n",
       "      <td>0.852078</td>\n",
       "      <td>-1</td>\n",
       "    </tr>\n",
       "    <tr>\n",
       "      <th>52</th>\n",
       "      <td>9534</td>\n",
       "      <td>303</td>\n",
       "      <td>0.861623</td>\n",
       "      <td>0.369193</td>\n",
       "      <td>-1</td>\n",
       "    </tr>\n",
       "    <tr>\n",
       "      <th>63</th>\n",
       "      <td>10784</td>\n",
       "      <td>373</td>\n",
       "      <td>0.974602</td>\n",
       "      <td>0.454768</td>\n",
       "      <td>-1</td>\n",
       "    </tr>\n",
       "    <tr>\n",
       "      <th>247</th>\n",
       "      <td>2815</td>\n",
       "      <td>456</td>\n",
       "      <td>0.254338</td>\n",
       "      <td>0.556235</td>\n",
       "      <td>-1</td>\n",
       "    </tr>\n",
       "    <tr>\n",
       "      <th>313</th>\n",
       "      <td>4695</td>\n",
       "      <td>181</td>\n",
       "      <td>0.424259</td>\n",
       "      <td>0.220049</td>\n",
       "      <td>-1</td>\n",
       "    </tr>\n",
       "    <tr>\n",
       "      <th>343</th>\n",
       "      <td>5370</td>\n",
       "      <td>215</td>\n",
       "      <td>0.485268</td>\n",
       "      <td>0.261614</td>\n",
       "      <td>-1</td>\n",
       "    </tr>\n",
       "    <tr>\n",
       "      <th>403</th>\n",
       "      <td>1668</td>\n",
       "      <td>352</td>\n",
       "      <td>0.150669</td>\n",
       "      <td>0.429095</td>\n",
       "      <td>-1</td>\n",
       "    </tr>\n",
       "  </tbody>\n",
       "</table>\n",
       "</div>"
      ],
      "text/plain": [
       "     count  nunique  count_scaled  nunique_scaled  labels\n",
       "0     5437      819      0.491323        1.000000      -1\n",
       "10   11065      698      1.000000        0.852078      -1\n",
       "52    9534      303      0.861623        0.369193      -1\n",
       "63   10784      373      0.974602        0.454768      -1\n",
       "247   2815      456      0.254338        0.556235      -1\n",
       "313   4695      181      0.424259        0.220049      -1\n",
       "343   5370      215      0.485268        0.261614      -1\n",
       "403   1668      352      0.150669        0.429095      -1"
      ]
     },
     "execution_count": 60,
     "metadata": {},
     "output_type": "execute_result"
    }
   ],
   "source": [
    "page_views_total[page_views_total.labels == -1]"
   ]
  },
  {
   "cell_type": "code",
   "execution_count": 61,
   "metadata": {},
   "outputs": [],
   "source": [
    "page_views = page_views_total"
   ]
  },
  {
   "cell_type": "code",
   "execution_count": 62,
   "metadata": {
    "tags": []
   },
   "outputs": [
    {
     "name": "stdout",
     "output_type": "stream",
     "text": [
      "Population\n",
      "              count     nunique  count_scaled  nunique_scaled      labels\n",
      "count    650.000000  650.000000    650.000000      650.000000  650.000000\n",
      "mean     836.300000  116.961538      0.075497        0.141762   -0.012308\n",
      "std      984.091716   76.488698      0.088945        0.093507    0.110340\n",
      "min        1.000000    1.000000      0.000000        0.000000   -1.000000\n",
      "25%      178.000000   58.000000      0.015998        0.069682    0.000000\n",
      "50%      677.500000  137.500000      0.061144        0.166870    0.000000\n",
      "75%     1159.000000  159.000000      0.104664        0.193154    0.000000\n",
      "max    11065.000000  819.000000      1.000000        1.000000    0.000000\n",
      "-------------\n",
      "Inliers\n",
      "             count     nunique  count_scaled  nunique_scaled  labels\n",
      "count   642.000000  642.000000    642.000000      642.000000   642.0\n",
      "mean    766.708723  113.127726      0.069207        0.137075     0.0\n",
      "std     666.744807   64.576135      0.060263        0.078944     0.0\n",
      "min       1.000000    1.000000      0.000000        0.000000     0.0\n",
      "25%     175.500000   58.000000      0.015772        0.069682     0.0\n",
      "50%     667.000000  136.500000      0.060195        0.165648     0.0\n",
      "75%    1145.000000  158.750000      0.103398        0.192848     0.0\n",
      "max    3403.000000  311.000000      0.307484        0.378973     0.0\n",
      "-------------\n",
      "Outliers\n",
      "              count     nunique  count_scaled  nunique_scaled  labels\n",
      "count      8.000000    8.000000      8.000000        8.000000     8.0\n",
      "mean    6421.000000  424.625000      0.580260        0.517879    -1.0\n",
      "std     3604.351576  225.919668      0.325773        0.276185     0.0\n",
      "min     1668.000000  181.000000      0.150669        0.220049    -1.0\n",
      "25%     4225.000000  281.000000      0.381779        0.342298    -1.0\n",
      "50%     5403.500000  362.500000      0.488295        0.441932    -1.0\n",
      "75%     9846.500000  516.500000      0.889868        0.630196    -1.0\n",
      "max    11065.000000  819.000000      1.000000        1.000000    -1.0\n"
     ]
    }
   ],
   "source": [
    "# Let's look at the descriptive stats for the entire population, the inliers, then the outliers/anomalies\n",
    "print(\"Population\")\n",
    "print(page_views.describe())\n",
    "print(\"-------------\")\n",
    "print(\"Inliers\")\n",
    "print(page_views[page_views.labels==0].describe())\n",
    "print(\"-------------\")\n",
    "print(\"Outliers\")\n",
    "print(page_views[page_views.labels==-1].describe())"
   ]
  },
  {
   "cell_type": "code",
   "execution_count": 63,
   "metadata": {},
   "outputs": [
    {
     "data": {
      "image/png": "[encoded data removed]",
      "text/plain": [
       "<Figure size 432x288 with 1 Axes>"
      ]
     },
     "metadata": {
      "needs_background": "light"
     },
     "output_type": "display_data"
    }
   ],
   "source": [
    "plt.scatter(page_views['count'],\n",
    "           page_views['nunique'],\n",
    "           c=page_views['labels'])\n",
    "plt.title('Cluster assignment by page count and unique count per user')\n",
    "plt.show()"
   ]
  },
  {
   "cell_type": "markdown",
   "metadata": {},
   "source": [
    "### Follow up questions:\n",
    "    - These unusual users dont seem to all be weird in the same way.\n",
    "    - What's different about these users specifically?\n",
    "    - Examine each user based on these parameters,\n",
    "    - See which url endpoints they are visiting\n",
    "    - Examine the cohorts those users are associated with\n",
    "    - Examine the dates associated with first access for those users\n",
    "    - Determine if these users may be employees, instructors, students that belonged to one or more cohorts, students that went through both programs, etc\n",
    "    "
   ]
  },
  {
   "cell_type": "markdown",
   "metadata": {},
   "source": [
    "## Experiment with the DBSCAN properties\n",
    "- Read up on the epsilon and min_samples arguments into DBSCAN at https://scikit-learn.org/stable/modules/generated/sklearn.cluster.DBSCAN.html\n",
    "- Experiment with altering the epsilon values (the `eps` argument holding the threshhold parameter). Run the models and visualize the results. What has changed? Why do you think that is?\n",
    "- Double the `min_samples` parameter. Run your model and visualize the results. Consider what changed and why."
   ]
  },
  {
   "cell_type": "markdown",
   "metadata": {},
   "source": [
    "# Exercise\n",
    "\n",
    "**file name:** clustering_anomaly_detection.py or clustering_anomaly_detection.ipynb\n",
    "\n",
    "\n",
    "### Clustering - DBSCAN\n",
    "\n",
    "Ideas: \n",
    "\n",
    "Use DBSCAN to detect anomalies in curriculumn access. \n",
    "\n",
    "Use DBSCAN to detect anomalies in other products from the customers dataset. \n",
    "\n",
    "Use DBSCAN to detect anomalies in number of bedrooms and finished square feet of property for the filtered dataset you used in the clustering project (single unit properties with a logerror).\n"
   ]
  },
  {
   "cell_type": "code",
   "execution_count": null,
   "metadata": {},
   "outputs": [],
   "source": []
  }
 ],
 "metadata": {
  "kernelspec": {
   "display_name": "Python 3 (ipykernel)",
   "language": "python",
   "name": "python3"
  },
  "language_info": {
   "codemirror_mode": {
    "name": "ipython",
    "version": 3
   },
   "file_extension": ".py",
   "mimetype": "text/x-python",
   "name": "python",
   "nbconvert_exporter": "python",
   "pygments_lexer": "ipython3",
   "version": "3.9.12"
  }
 },
 "nbformat": 4,
 "nbformat_minor": 4
}
